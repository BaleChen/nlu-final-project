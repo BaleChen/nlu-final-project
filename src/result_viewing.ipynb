{
 "cells": [
  {
   "cell_type": "code",
   "execution_count": 64,
   "id": "13b3df5c-4f23-4d2a-904c-11a35a410a46",
   "metadata": {},
   "outputs": [],
   "source": [
    "import json\n",
    "import os\n",
    "import numpy\n",
    "import matplotlib.pyplot as plt\n",
    "import seaborn as sns\n",
    "import pandas as pd\n",
    "import numpy as np"
   ]
  },
  {
   "cell_type": "code",
   "execution_count": 74,
   "id": "ac4f95b0-e5e1-418a-8101-9c80f6975809",
   "metadata": {
    "tags": []
   },
   "outputs": [],
   "source": [
    "log_p_results = []\n",
    "detect_results = []\n",
    "ensemble_results = []\n",
    "for folder in os.listdir(\"results/Ensemble\"):\n",
    "    if \".DS_Store\" not in folder:\n",
    "        for subf in os.listdir(os.path.join(\"results/Ensemble\", folder)):\n",
    "            if subf != \".DS_Store\":\n",
    "                path = os.path.join(\"results/Ensemble\", folder, subf)\n",
    "                with open(os.path.join(path, \"args.json\"), \"rb\") as args_j:\n",
    "                    args = json.load(args_j)\n",
    "                # with open(os.path.join(path, \"likelihood_threshold_results.json\"), \"rb\") as l_j:\n",
    "                #     log_p_results.append((args, json.load(l_j)))\n",
    "                with open(os.path.join(path,\"perturbation_50_z_results.json\"), \"rb\") as d_j:\n",
    "                    detect_results.append((args, json.load(d_j)))\n",
    "                with open(os.path.join(path,\"perturbation__ensemble_50_z_results.json\"), \"rb\") as d_j:\n",
    "                    ensemble_results.append((args, json.load(d_j)))\n",
    "    \n"
   ]
  },
  {
   "cell_type": "code",
   "execution_count": 128,
   "id": "827c5d78-eb03-4c73-988a-53252f3d111e",
   "metadata": {},
   "outputs": [
    {
     "data": {
      "text/plain": [
       "dict_keys(['roc_auc', 'fpr', 'tpr'])"
      ]
     },
     "execution_count": 128,
     "metadata": {},
     "output_type": "execute_result"
    }
   ],
   "source": [
    "detect_results[0][1][\"metrics\"].keys()"
   ]
  },
  {
   "cell_type": "code",
   "execution_count": 117,
   "id": "18a87c1d-526b-42e9-b1ac-25f511b53ea3",
   "metadata": {},
   "outputs": [
    {
     "data": {
      "text/plain": [
       "0.246025"
      ]
     },
     "execution_count": 117,
     "metadata": {},
     "output_type": "execute_result"
    }
   ],
   "source": [
    "ensemble_results[0][1][\"metrics\"][\"roc_auc\"]"
   ]
  },
  {
   "cell_type": "code",
   "execution_count": 118,
   "id": "2fe09018-61b7-46f3-8450-1cbfb6272ce7",
   "metadata": {},
   "outputs": [],
   "source": [
    "ensemble_results_dict = {\n",
    "    \"xsum\" : {},\n",
    "    \"squad\" : {},\n",
    "    \"writing\" : {}\n",
    "}\n",
    "\n",
    "for results in ensemble_results:\n",
    "    args = results[0]\n",
    "    stats = results[1]\n",
    "    \n",
    "    dataset, model = args[\"dataset\"], args[\"base_model_name\"]\n",
    "    ensemble_results_dict[dataset][model] = {\n",
    "        \"f1_metrics\" : stats[\"f1_metrics\"],\n",
    "        \"accuracy\" : stats[\"accuracy\"],\n",
    "        \"confusion_matrix\" :  stats[\"confusion_matrix\"],\n",
    "        \"metrics\" : stats[\"metrics\"]\n",
    "    }"
   ]
  },
  {
   "cell_type": "code",
   "execution_count": 122,
   "id": "a4802142-3284-442f-80e4-ff0e158c49a8",
   "metadata": {
    "tags": []
   },
   "outputs": [
    {
     "name": "stdout",
     "output_type": "stream",
     "text": [
      "0.50 & 0.50 & 0.51 & 0.51 & 0.50 & 0.48 & 0.49 & 0.50 & 0.51 & 0.49 & 0.50 & 0.51 & 0.53 & 0.52 & 0.51 & "
     ]
    }
   ],
   "source": [
    "for key, value in ensemble_results_dict.items():\n",
    "    per_dataset_result = 0\n",
    "    for m in [\"gpt2-xl\", \"EleutherAI/gpt-neo-2.7B\", \"EleutherAI/gpt-j-6B\", \"EleutherAI/gpt-neox-20b\"]:\n",
    "        per_dataset_result += value[m][\"accuracy\"]\n",
    "        print(\"{:.2f}\".format(value[m][\"accuracy\"]), end=\" & \")\n",
    "    print(\"{:.2f}\".format(per_dataset_result/4), end=\" & \")"
   ]
  },
  {
   "cell_type": "code",
   "execution_count": 47,
   "id": "ce27579e-e553-40c4-9bc1-c5cefdde2a90",
   "metadata": {},
   "outputs": [],
   "source": [
    "log_p_results_dict = {\n",
    "    \"xsum\" : {},\n",
    "    \"squad\" : {},\n",
    "    \"writing\" : {}\n",
    "}\n",
    "\n",
    "for results in log_p_results:\n",
    "    args = results[0]\n",
    "    stats = results[1]\n",
    "    \n",
    "    dataset, model = args[\"dataset\"], args[\"base_model_name\"]\n",
    "    log_p_results_dict[dataset][model] = {\n",
    "        \"f1_metrics\" : stats[\"f1_metrics\"],\n",
    "        \"accuracy\" : stats[\"accuracy\"],\n",
    "        \"confusion_matrix\" :  stats[\"confusion_matrix\"],\n",
    "        \"metrics\" : stats[\"metrics\"]\n",
    "    }"
   ]
  },
  {
   "cell_type": "code",
   "execution_count": 59,
   "id": "337d6f1f-02e0-4de2-8c17-089ff6212a74",
   "metadata": {},
   "outputs": [
    {
     "name": "stdout",
     "output_type": "stream",
     "text": [
      "0.53 & 0.56 & 0.53 & 0.51 & 0.54 & 0.65 & 0.56 & 0.53 & 0.51 & 0.56 & 0.72 & 0.61 & 0.65 & 0.58 & 0.64 & "
     ]
    }
   ],
   "source": [
    "for key, value in results_dict.items():\n",
    "    per_dataset_result = 0\n",
    "    for m in [\"gpt2-xl\", \"EleutherAI/gpt-neo-2.7B\", \"EleutherAI/gpt-j-6B\", \"EleutherAI/gpt-neox-20b\"]:\n",
    "        per_dataset_result += value[m][\"accuracy\"]\n",
    "        print(\"{:.2f}\".format(value[m][\"accuracy\"]), end=\" & \")\n",
    "    print(\"{:.2f}\".format(per_dataset_result/4), end=\" & \")"
   ]
  },
  {
   "cell_type": "code",
   "execution_count": 60,
   "id": "a445d4d3-90b3-49b5-86e2-cee52da06f71",
   "metadata": {},
   "outputs": [],
   "source": [
    "detect_results_dict = {\n",
    "    \"xsum\" : {},\n",
    "    \"squad\" : {},\n",
    "    \"writing\" : {}\n",
    "}\n",
    "\n",
    "for results in detect_results:\n",
    "    args = results[0]\n",
    "    stats = results[1]\n",
    "    \n",
    "    dataset, model = args[\"dataset\"], args[\"base_model_name\"]\n",
    "    detect_results_dict[dataset][model] = {\n",
    "        \"f1_metrics\" : stats[\"f1_metrics\"],\n",
    "        \"accuracy\" : stats[\"accuracy\"],\n",
    "        \"confusion_matrix\" :  stats[\"confusion_matrix\"],\n",
    "        \"metrics\" : stats[\"metrics\"]\n",
    "    }"
   ]
  },
  {
   "cell_type": "code",
   "execution_count": 61,
   "id": "e53abc3d-9688-423d-b192-799c53cb2e02",
   "metadata": {},
   "outputs": [
    {
     "name": "stdout",
     "output_type": "stream",
     "text": [
      "0.87 & 0.91 & 0.65 & 0.62 & 0.76 & 0.87 & 0.77 & 0.54 & 0.51 & 0.67 & 0.91 & 0.84 & 0.69 & 0.73 & 0.79 & "
     ]
    }
   ],
   "source": [
    "for key, value in results_dict.items():\n",
    "    per_dataset_result = 0\n",
    "    for m in [\"gpt2-xl\", \"EleutherAI/gpt-neo-2.7B\", \"EleutherAI/gpt-j-6B\", \"EleutherAI/gpt-neox-20b\"]:\n",
    "        per_dataset_result += value[m][\"accuracy\"]\n",
    "        print(\"{:.2f}\".format(value[m][\"accuracy\"]), end=\" & \")\n",
    "    print(\"{:.2f}\".format(per_dataset_result/4), end=\" & \")\n",
    "print(\"\\n\")\n",
    "for key, value in detect_results_dict.items():\n",
    "    per_dataset_result = 0\n",
    "    for m in [\"gpt2-xl\", \"EleutherAI/gpt-neo-2.7B\", \"EleutherAI/gpt-j-6B\", \"EleutherAI/gpt-neox-20b\"]:\n",
    "        per_dataset_result += value[m][\"accuracy\"]\n",
    "        print(\"{:.2f}\".format(value[m][\"accuracy\"]), end=\" & \")\n",
    "    print(\"{:.2f}\".format(per_dataset_result/4), end=\" & \")"
   ]
  },
  {
   "cell_type": "code",
   "execution_count": 63,
   "id": "888f3f4b-fc8b-4e07-957f-21202fad463c",
   "metadata": {},
   "outputs": [
    {
     "name": "stdout",
     "output_type": "stream",
     "text": [
      " &  &  &  &  &  &  &  &  &  &  &  &  &  & \n"
     ]
    }
   ],
   "source": [
    "print(\" & \"*14)"
   ]
  },
  {
   "cell_type": "code",
   "execution_count": 7,
   "id": "a24e8ff0-3ea2-4259-a42b-d4af4426e439",
   "metadata": {},
   "outputs": [],
   "source": [
    "import pandas as pd"
   ]
  },
  {
   "cell_type": "code",
   "execution_count": 9,
   "id": "85b62c0a-4ce1-44c3-bce9-4b2ba2dc1604",
   "metadata": {},
   "outputs": [],
   "source": [
    "columns = [\"epoch\", \"gpt2-xl\", \"gpt-neo\", \"gpt-j\", \"neox\"]"
   ]
  },
  {
   "cell_type": "code",
   "execution_count": 11,
   "id": "1fa91ff3-739e-4392-9778-a1742d10e375",
   "metadata": {},
   "outputs": [],
   "source": [
    "text = \"\"\"0\t0.582866667\t0.576566667\t0.562866667\t0.556033333\n",
    "2\t0.627820513\t0.620858974\t0.584358974\t0.544824786\n",
    "4\t0.590525641\t0.604547009\t0.549149573\t0.540277778\n",
    "6\t0.554094017\t0.57458547\t0.53707265\t0.540149573\n",
    "8\t0.533747863\t0.569175214\t0.535076923\t0.534286325\n",
    "10\t0.532418803\t0.560380342\t0.536076923\t0.530487179\"\"\""
   ]
  },
  {
   "cell_type": "code",
   "execution_count": 41,
   "id": "3ff0dd02-468c-4e0a-8174-07d810e389d9",
   "metadata": {},
   "outputs": [],
   "source": [
    "data = []\n",
    "for line in text.split(\"\\n\"):\n",
    "    temp = []\n",
    "    for i in line.split():\n",
    "        temp.append(float(i))\n",
    "    data.append(temp)\n",
    "\n",
    "data = pd.DataFrame(data, columns=columns)"
   ]
  },
  {
   "cell_type": "code",
   "execution_count": 68,
   "id": "6b178a1e-464b-4c7d-bd84-2711d153ef14",
   "metadata": {},
   "outputs": [
    {
     "data": {
      "image/png": "[encoded data removed]",
      "text/plain": [
       "<Figure size 640x480 with 1 Axes>"
      ]
     },
     "metadata": {},
     "output_type": "display_data"
    }
   ],
   "source": [
    "# sns.lineplot(data=data[[\"gpt2-xl\", \"gpt-neo\", \"gpt-j\", \"neox\"]])\n",
    "\n",
    "ax = sns.lineplot(data=data[[\"gpt2-xl\", \"gpt-neo\", \"gpt-j\", \"neox\"]],\n",
    "             palette=['red', 'blue', 'purple', 'pink'])\n",
    "\n",
    "ax.set_xticks(ticks = range(0, 6), labels=range(0,11,2))\n",
    "ax.set(xlabel='Epochs for Fine-tuning', ylabel='AFC')\n",
    "\n",
    "plt.savefig(\"ft-effect.png\", dpi=100)"
   ]
  },
  {
   "cell_type": "code",
   "execution_count": 67,
   "id": "912a6149-c862-4789-9734-8b0ddb5ac5c1",
   "metadata": {},
   "outputs": [],
   "source": [
    "import matplotlib.pyplot as plt"
   ]
  }
 ],
 "metadata": {
  "kernelspec": {
   "display_name": "Python(nlu)",
   "language": "python",
   "name": "nlu"
  },
  "language_info": {
   "codemirror_mode": {
    "name": "ipython",
    "version": 3
   },
   "file_extension": ".py",
   "mimetype": "text/x-python",
   "name": "python",
   "nbconvert_exporter": "python",
   "pygments_lexer": "ipython3",
   "version": "3.10.9"
  }
 },
 "nbformat": 4,
 "nbformat_minor": 5
}
